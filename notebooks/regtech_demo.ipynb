{
 "cells": [
  {
   "cell_type": "markdown",
   "id": "2edea096",
   "metadata": {},
   "source": [
    "# RegTech - CS x Sia Partners"
   ]
  },
  {
   "cell_type": "markdown",
   "id": "ba0ee56d",
   "metadata": {},
   "source": [
    "## 1 - Extract data"
   ]
  },
  {
   "cell_type": "markdown",
   "id": "29e71e2d",
   "metadata": {},
   "source": [
    "### A. Git pipeline"
   ]
  },
  {
   "cell_type": "markdown",
   "id": "0a830e2f",
   "metadata": {},
   "source": [
    "#### Extract commits"
   ]
  },
  {
   "cell_type": "code",
   "execution_count": 3,
   "id": "4675e447",
   "metadata": {},
   "outputs": [],
   "source": [
    "session.run(pipeline_name='train_model', tags=['load_and_process_git'])\n",
    "# TODO: show some stuff"
   ]
  },
  {
   "cell_type": "markdown",
   "id": "3255f846",
   "metadata": {},
   "source": [
    "#### Fit model for transformation"
   ]
  },
  {
   "cell_type": "code",
   "execution_count": null,
   "id": "d3146f8e",
   "metadata": {},
   "outputs": [],
   "source": [
    "session.run(pipeline_name='train_model', tags=['fit_feature_model'])\n",
    "# TODO: show some stuff"
   ]
  },
  {
   "cell_type": "markdown",
   "id": "0d0097d0",
   "metadata": {},
   "source": [
    "#### Transform commits"
   ]
  },
  {
   "cell_type": "code",
   "execution_count": null,
   "id": "a831bce5",
   "metadata": {},
   "outputs": [],
   "source": [
    "session.run(pipeline_name='train_model', tags=['transform_commits'])\n",
    "# TODO: show some stuff"
   ]
  },
  {
   "cell_type": "markdown",
   "id": "7d813a3d",
   "metadata": {},
   "source": [
    "### B. Jira pipeline"
   ]
  },
  {
   "cell_type": "code",
   "execution_count": null,
   "id": "0be8296b",
   "metadata": {},
   "outputs": [],
   "source": []
  },
  {
   "cell_type": "markdown",
   "id": "ebc1bc09",
   "metadata": {},
   "source": [
    "### C. Defects pipeline"
   ]
  },
  {
   "cell_type": "code",
   "execution_count": null,
   "id": "f89d3aa2",
   "metadata": {},
   "outputs": [],
   "source": []
  },
  {
   "cell_type": "markdown",
   "id": "426730bb",
   "metadata": {},
   "source": [
    "### D. Tests pipeline"
   ]
  },
  {
   "cell_type": "code",
   "execution_count": null,
   "id": "f47f3de3",
   "metadata": {},
   "outputs": [],
   "source": []
  },
  {
   "cell_type": "markdown",
   "id": "a8f313b4",
   "metadata": {},
   "source": [
    "## 2. train model"
   ]
  },
  {
   "cell_type": "markdown",
   "id": "7f6e1d52",
   "metadata": {},
   "source": [
    "### A. Build dataset"
   ]
  },
  {
   "cell_type": "code",
   "execution_count": null,
   "id": "c13c2fc9",
   "metadata": {},
   "outputs": [],
   "source": []
  },
  {
   "cell_type": "markdown",
   "id": "93b63ca8",
   "metadata": {},
   "source": [
    "### B. Train model "
   ]
  },
  {
   "cell_type": "code",
   "execution_count": null,
   "id": "cb1705f0",
   "metadata": {},
   "outputs": [],
   "source": []
  },
  {
   "cell_type": "markdown",
   "id": "785eb27d",
   "metadata": {},
   "source": [
    "### C. Evaluate model"
   ]
  },
  {
   "cell_type": "code",
   "execution_count": null,
   "id": "250bec19",
   "metadata": {},
   "outputs": [],
   "source": []
  }
 ],
 "metadata": {
  "kernelspec": {
   "display_name": "regtech",
   "language": "python",
   "name": "python3"
  },
  "language_info": {
   "codemirror_mode": {
    "name": "ipython",
    "version": 3
   },
   "file_extension": ".py",
   "mimetype": "text/x-python",
   "name": "python",
   "nbconvert_exporter": "python",
   "pygments_lexer": "ipython3",
   "version": "3.8.0"
  }
 },
 "nbformat": 4,
 "nbformat_minor": 5
}
